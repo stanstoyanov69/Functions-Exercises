{
 "cells": [
  {
   "cell_type": "code",
   "execution_count": 9,
   "metadata": {},
   "outputs": [
    {
     "name": "stdout",
     "output_type": "stream",
     "text": [
      "It's good to see you Stan\n",
      "What is your age ?\n",
      "My age is 19\n"
     ]
    }
   ],
   "source": [
    "\n",
    "# This program asks about my name and says hello\n",
    "\n",
    "my_name = input()\n",
    "print(\"It's good to see you \" + my_name)\n",
    "print(\"What is your age ?\")\n",
    "my_age = int(input())\n",
    "print(f\"My age is \" + str(my_age))\n"
   ]
  },
  {
   "cell_type": "code",
   "execution_count": 14,
   "metadata": {},
   "outputs": [
    {
     "name": "stdout",
     "output_type": "stream",
     "text": [
      "0\n",
      "3\n",
      "6\n",
      "9\n",
      "12\n",
      "15\n"
     ]
    }
   ],
   "source": [
    "for i in range(0,16,3):\n",
    "    print(i)"
   ]
  },
  {
   "cell_type": "code",
   "execution_count": 15,
   "metadata": {},
   "outputs": [
    {
     "name": "stdout",
     "output_type": "stream",
     "text": [
      "Type exit to exit.\n",
      "You typed hui.\n",
      "Type exit to exit.\n",
      "You typed hi.\n",
      "Type exit to exit.\n",
      "You typed hi.\n",
      "Type exit to exit.\n"
     ]
    },
    {
     "ename": "SystemExit",
     "evalue": "",
     "output_type": "error",
     "traceback": [
      "An exception has occurred, use %tb to see the full traceback.\n",
      "\u001b[1;31mSystemExit\u001b[0m\n"
     ]
    },
    {
     "name": "stderr",
     "output_type": "stream",
     "text": [
      "c:\\Users\\Stan\\anaconda3\\lib\\site-packages\\IPython\\core\\interactiveshell.py:3426: UserWarning: To exit: use 'exit', 'quit', or Ctrl-D.\n",
      "  warn(\"To exit: use 'exit', 'quit', or Ctrl-D.\", stacklevel=1)\n"
     ]
    }
   ],
   "source": [
    "import sys\n",
    "\n",
    "while True:\n",
    "    print('Type exit to exit.')\n",
    "    response = input()\n",
    "    if response == 'exit':\n",
    "        sys.exit()\n",
    "    print('You typed ' + response + '.')"
   ]
  },
  {
   "cell_type": "code",
   "execution_count": null,
   "metadata": {},
   "outputs": [],
   "source": [
    "import random, sys\n",
    "\n",
    "print('ROCK, PAPER, SCISSORS')\n",
    "\n",
    "# These variables keep track of the number of wins, losses, and ties.\n",
    "wins = 0\n",
    "losses = 0\n",
    "ties = 0\n",
    "\n",
    "while True: # The main game loop.\n",
    "    print('%s Wins, %s Losses, %s Ties' % (wins, losses, ties))\n",
    "    while True: # The player input loop.\n",
    "        print('Enter your move: (r)ock (p)aper (s)cissors or (q)uit')\n",
    "        playerMove = input()\n",
    "        if playerMove == 'q':\n",
    "            sys.exit() # Quit the program.\n",
    "        if playerMove == 'r' or playerMove == 'p' or playerMove == 's':\n",
    "            break # Break out of the player input loop.\n",
    "        print('Type one of r, p, s, or q.')\n",
    "\n",
    "    # Display what the player chose:\n",
    "    if playerMove == 'r':\n",
    "        print('ROCK versus...')\n",
    "    elif playerMove == 'p':\n",
    "        print('PAPER versus...')\n",
    "    elif playerMove == 's':\n",
    "        print('SCISSORS versus...')\n",
    "\n",
    "    # Display what the computer chose:\n",
    "    randomNumber = random.randint(1, 3)\n",
    "    if randomNumber == 1:\n",
    "        computerMove = 'r'\n",
    "        print('ROCK')\n",
    "    elif randomNumber == 2:\n",
    "        computerMove = 'p'\n",
    "        print('PAPER')\n",
    "    elif randomNumber == 3:\n",
    "        computerMove = 's'\n",
    "        print('SCISSORS')\n",
    "\n",
    "    # Display and record the win/loss/tie:\n",
    "    if playerMove == computerMove:\n",
    "        print('It is a tie!')\n",
    "        ties = ties + 1\n",
    "    elif playerMove == 'r' and computerMove == 's':\n",
    "        print('You win!')\n",
    "        wins = wins + 1\n",
    "    elif playerMove == 'p' and computerMove == 'r':\n",
    "        print('You win!')\n",
    "        wins = wins + 1\n",
    "    elif playerMove == 's' and computerMove == 'p':\n",
    "        print('You win!')\n",
    "        wins = wins + 1\n",
    "    elif playerMove == 'r' and computerMove == 'p':\n",
    "        print('You lose!')\n",
    "        losses = losses + 1\n",
    "    elif playerMove == 'p' and computerMove == 's':\n",
    "        print('You lose!')\n",
    "        losses = losses + 1\n",
    "    elif playerMove == 's' and computerMove == 'r':\n",
    "        print('You lose!')\n",
    "        losses = losses + 1"
   ]
  },
  {
   "cell_type": "code",
   "execution_count": 21,
   "metadata": {},
   "outputs": [
    {
     "name": "stdout",
     "output_type": "stream",
     "text": [
      "Hello\n",
      "Howdy\n",
      "Greetings\n",
      "4\n",
      "5\n",
      "6\n",
      "7\n",
      "8\n",
      "9\n"
     ]
    }
   ],
   "source": [
    "for i in range(1,10):\n",
    "    if i == 1:\n",
    "        print(\"Hello\")\n",
    "    elif i == 2:\n",
    "        print(\"Howdy\")\n",
    "    elif i == 3:\n",
    "        print(\"Greetings\")\n",
    "    else:\n",
    "        print(i)"
   ]
  }
 ],
 "metadata": {
  "kernelspec": {
   "display_name": "base",
   "language": "python",
   "name": "python3"
  },
  "language_info": {
   "codemirror_mode": {
    "name": "ipython",
    "version": 3
   },
   "file_extension": ".py",
   "mimetype": "text/x-python",
   "name": "python",
   "nbconvert_exporter": "python",
   "pygments_lexer": "ipython3",
   "version": "3.8.5"
  }
 },
 "nbformat": 4,
 "nbformat_minor": 2
}
